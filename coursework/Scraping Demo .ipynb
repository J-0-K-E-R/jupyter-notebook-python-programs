{
 "cells": [
  {
   "cell_type": "code",
   "execution_count": 2,
   "metadata": {},
   "outputs": [],
   "source": [
    "import requests"
   ]
  },
  {
   "cell_type": "code",
   "execution_count": 3,
   "metadata": {},
   "outputs": [],
   "source": [
    "from bs4 import BeautifulSoup"
   ]
  },
  {
   "cell_type": "code",
   "execution_count": 11,
   "metadata": {},
   "outputs": [],
   "source": [
    "response = requests.get('https://www.google.com/')"
   ]
  },
  {
   "cell_type": "code",
   "execution_count": 13,
   "metadata": {},
   "outputs": [
    {
     "data": {
      "text/plain": [
       "200"
      ]
     },
     "execution_count": 13,
     "metadata": {},
     "output_type": "execute_result"
    }
   ],
   "source": [
    "response.status_code"
   ]
  },
  {
   "cell_type": "code",
   "execution_count": 15,
   "metadata": {},
   "outputs": [],
   "source": [
    "html_data = response.content"
   ]
  },
  {
   "cell_type": "code",
   "execution_count": 16,
   "metadata": {},
   "outputs": [],
   "source": [
    "soup = BeautifulSoup(html_data, 'html.parser')"
   ]
  },
  {
   "cell_type": "code",
   "execution_count": 34,
   "metadata": {},
   "outputs": [],
   "source": [
    "#print(soup.prettify())"
   ]
  },
  {
   "cell_type": "code",
   "execution_count": 25,
   "metadata": {},
   "outputs": [
    {
     "data": {
      "text/plain": [
       "<title>Google</title>"
      ]
     },
     "execution_count": 25,
     "metadata": {},
     "output_type": "execute_result"
    }
   ],
   "source": [
    "soup.title"
   ]
  },
  {
   "cell_type": "code",
   "execution_count": 26,
   "metadata": {},
   "outputs": [
    {
     "data": {
      "text/plain": [
       "'title'"
      ]
     },
     "execution_count": 26,
     "metadata": {},
     "output_type": "execute_result"
    }
   ],
   "source": [
    "soup.title.name"
   ]
  },
  {
   "cell_type": "code",
   "execution_count": 27,
   "metadata": {},
   "outputs": [
    {
     "data": {
      "text/plain": [
       "'Google'"
      ]
     },
     "execution_count": 27,
     "metadata": {},
     "output_type": "execute_result"
    }
   ],
   "source": [
    "soup.title.string"
   ]
  },
  {
   "cell_type": "code",
   "execution_count": 28,
   "metadata": {},
   "outputs": [
    {
     "data": {
      "text/plain": [
       "<a class=\"gb1\" href=\"https://www.google.co.in/imghp?hl=en&amp;tab=wi\">Images</a>"
      ]
     },
     "execution_count": 28,
     "metadata": {},
     "output_type": "execute_result"
    }
   ],
   "source": [
    "soup.a"
   ]
  },
  {
   "cell_type": "code",
   "execution_count": 35,
   "metadata": {},
   "outputs": [
    {
     "data": {
      "text/plain": [
       "[<a class=\"gb1\" href=\"https://www.google.co.in/imghp?hl=en&amp;tab=wi\">Images</a>,\n",
       " <a class=\"gb1\" href=\"https://maps.google.co.in/maps?hl=en&amp;tab=wl\">Maps</a>,\n",
       " <a class=\"gb1\" href=\"https://play.google.com/?hl=en&amp;tab=w8\">Play</a>,\n",
       " <a class=\"gb1\" href=\"https://www.youtube.com/?gl=IN&amp;tab=w1\">YouTube</a>,\n",
       " <a class=\"gb1\" href=\"https://news.google.co.in/nwshp?hl=en&amp;tab=wn\">News</a>,\n",
       " <a class=\"gb1\" href=\"https://mail.google.com/mail/?tab=wm\">Gmail</a>,\n",
       " <a class=\"gb1\" href=\"https://drive.google.com/?tab=wo\">Drive</a>,\n",
       " <a class=\"gb1\" href=\"https://www.google.co.in/intl/en/about/products?tab=wh\" style=\"text-decoration:none\"><u>More</u> »</a>,\n",
       " <a class=\"gb4\" href=\"http://www.google.co.in/history/optout?hl=en\">Web History</a>,\n",
       " <a class=\"gb4\" href=\"/preferences?hl=en\">Settings</a>]"
      ]
     },
     "execution_count": 35,
     "metadata": {},
     "output_type": "execute_result"
    }
   ],
   "source": [
    "soup.find_all('a')[:10]"
   ]
  },
  {
   "cell_type": "code",
   "execution_count": 31,
   "metadata": {},
   "outputs": [
    {
     "name": "stdout",
     "output_type": "stream",
     "text": [
      "https://www.google.co.in/imghp?hl=en&tab=wi\n",
      "https://maps.google.co.in/maps?hl=en&tab=wl\n",
      "https://play.google.com/?hl=en&tab=w8\n",
      "https://www.youtube.com/?gl=IN&tab=w1\n",
      "https://news.google.co.in/nwshp?hl=en&tab=wn\n",
      "https://mail.google.com/mail/?tab=wm\n",
      "https://drive.google.com/?tab=wo\n",
      "https://www.google.co.in/intl/en/about/products?tab=wh\n",
      "http://www.google.co.in/history/optout?hl=en\n",
      "/preferences?hl=en\n",
      "https://accounts.google.com/ServiceLogin?hl=en&passive=true&continue=https://www.google.com/\n",
      "/advanced_search?hl=en-IN&authuser=0\n",
      "/language_tools?hl=en-IN&authuser=0\n",
      "https://www.google.com/setprefs?sig=0_yDIzNO4jTwTxY5sEjVW2PhWilk0%3D&hl=hi&source=homepage&sa=X&ved=0ahUKEwin6Jf08ODiAhXMknAKHatqDisQ2ZgBCAU\n",
      "https://www.google.com/setprefs?sig=0_yDIzNO4jTwTxY5sEjVW2PhWilk0%3D&hl=bn&source=homepage&sa=X&ved=0ahUKEwin6Jf08ODiAhXMknAKHatqDisQ2ZgBCAY\n",
      "https://www.google.com/setprefs?sig=0_yDIzNO4jTwTxY5sEjVW2PhWilk0%3D&hl=te&source=homepage&sa=X&ved=0ahUKEwin6Jf08ODiAhXMknAKHatqDisQ2ZgBCAc\n",
      "https://www.google.com/setprefs?sig=0_yDIzNO4jTwTxY5sEjVW2PhWilk0%3D&hl=mr&source=homepage&sa=X&ved=0ahUKEwin6Jf08ODiAhXMknAKHatqDisQ2ZgBCAg\n",
      "https://www.google.com/setprefs?sig=0_yDIzNO4jTwTxY5sEjVW2PhWilk0%3D&hl=ta&source=homepage&sa=X&ved=0ahUKEwin6Jf08ODiAhXMknAKHatqDisQ2ZgBCAk\n",
      "https://www.google.com/setprefs?sig=0_yDIzNO4jTwTxY5sEjVW2PhWilk0%3D&hl=gu&source=homepage&sa=X&ved=0ahUKEwin6Jf08ODiAhXMknAKHatqDisQ2ZgBCAo\n",
      "https://www.google.com/setprefs?sig=0_yDIzNO4jTwTxY5sEjVW2PhWilk0%3D&hl=kn&source=homepage&sa=X&ved=0ahUKEwin6Jf08ODiAhXMknAKHatqDisQ2ZgBCAs\n",
      "https://www.google.com/setprefs?sig=0_yDIzNO4jTwTxY5sEjVW2PhWilk0%3D&hl=ml&source=homepage&sa=X&ved=0ahUKEwin6Jf08ODiAhXMknAKHatqDisQ2ZgBCAw\n",
      "https://www.google.com/setprefs?sig=0_yDIzNO4jTwTxY5sEjVW2PhWilk0%3D&hl=pa&source=homepage&sa=X&ved=0ahUKEwin6Jf08ODiAhXMknAKHatqDisQ2ZgBCA0\n",
      "/intl/en/ads/\n",
      "http://www.google.co.in/services/\n",
      "/intl/en/about.html\n",
      "https://www.google.com/setprefdomain?prefdom=IN&prev=https://www.google.co.in/&sig=K_8RBNjJos25tnpXpS92nUVVT3oiY%3D\n",
      "/intl/en/policies/privacy/\n",
      "/intl/en/policies/terms/\n"
     ]
    }
   ],
   "source": [
    "for link in soup.find_all('a'):\n",
    "    print(link.get('href'))"
   ]
  },
  {
   "cell_type": "code",
   "execution_count": 36,
   "metadata": {},
   "outputs": [],
   "source": [
    "#print(soup.get_text())"
   ]
  },
  {
   "cell_type": "code",
   "execution_count": null,
   "metadata": {},
   "outputs": [],
   "source": []
  }
 ],
 "metadata": {
  "kernelspec": {
   "display_name": "Python 3",
   "language": "python",
   "name": "python3"
  },
  "language_info": {
   "codemirror_mode": {
    "name": "ipython",
    "version": 3
   },
   "file_extension": ".py",
   "mimetype": "text/x-python",
   "name": "python",
   "nbconvert_exporter": "python",
   "pygments_lexer": "ipython3",
   "version": "3.6.5"
  }
 },
 "nbformat": 4,
 "nbformat_minor": 2
}
