{
 "cells": [
  {
   "cell_type": "markdown",
   "metadata": {},
   "source": [
    "#   Recursion\n",
    "\n",
    "\n",
    "\n",
    "# Introduction to Recursion\n",
    "\n",
    "\n",
    "Recursion is a method of solving problems that involves breaking a problem down into smaller and smaller subproblems until you get to a small enough problem that it can be solved easily.\n",
    "\n",
    "In simple word,\" Breaking down a problem into smaller subproblem inorder to make our task easier and feasible\" .\n",
    "\n",
    "\n"
   ]
  },
  {
   "cell_type": "markdown",
   "metadata": {},
   "source": [
    "What is Recursion?\n",
    "\n",
    "The process in which a function calls itself directly or indirectly is called recursion and the corresponding function is called as recursive function. Using recursive algorithm, certain problems can be solved quite easily. Examples  Inorder/Preorder/Postorder Tree Traversals, DFS of Graph, etc.\n",
    "\n",
    "Recursion is the process of defining something in terms of itself.\n",
    "\n",
    "A physical world example would be to place two parallel mirrors facing each other. Any object in between them would be reflected recursively.\n",
    "\n",
    "\n",
    "Here is how recursion works. A recursive function calls itself. As you you’d imagine such a process would repeat indefinitely if not stopped by some condition. This condition is known as base condition. A base condition is must in every recursive programs otherwise it will continue to execute forever like an infinite loop.\n",
    "\n",
    "\n",
    "\n",
    "\n",
    "\n",
    "Overview of how recursive function works\n",
    "\n",
    "    Recursive function is called by some external code.\n",
    "    If the base condition is met then the program do something meaningful and exits.\n",
    "    Otherwise, function does some required processing and then call itself to continue recursion."
   ]
  },
  {
   "cell_type": "markdown",
   "metadata": {},
   "source": [
    "# Example"
   ]
  },
  {
   "cell_type": "code",
   "execution_count": 1,
   "metadata": {},
   "outputs": [
    {
     "name": "stdout",
     "output_type": "stream",
     "text": [
      "1\n",
      "120\n"
     ]
    }
   ],
   "source": [
    "def fact(n):\n",
    "    if n == 0:\n",
    "        return 1\n",
    "    else:\n",
    "        return n * fact(n-1)\n",
    " \n",
    " \n",
    "print(fact(0))\n",
    "print(fact(5))"
   ]
  },
  {
   "cell_type": "markdown",
   "metadata": {},
   "source": [
    "# Advantages of Recursion\n",
    "\n",
    "    Recursive functions make the code look clean and elegant.\n",
    "    A complex task can be broken down into simpler sub-problems using recursion.\n",
    "   \n",
    "\n"
   ]
  },
  {
   "cell_type": "markdown",
   "metadata": {},
   "source": [
    "# Difference between Recursion and Iteration:\n",
    "\n",
    "\n",
    "The difference between them is that recursion is simply a method call while iteration is when a loop is repeatedly executed until a certain condition is met.\n",
    "\n",
    "In recursion conditional staement decides the termination of recursion while in iteration a control variable's value decide the termination of iteration statement.\n"
   ]
  },
  {
   "cell_type": "markdown",
   "metadata": {},
   "source": [
    "# Problems for Practice"
   ]
  },
  {
   "cell_type": "markdown",
   "metadata": {},
   "source": [
    "\n",
    "1.Program for Fibonacci Series Using Recursion                                                                                                            \n",
    "2.Sum of Natural Numbers Using recursion"
   ]
  },
  {
   "cell_type": "code",
   "execution_count": null,
   "metadata": {},
   "outputs": [],
   "source": []
  }
 ],
 "metadata": {
  "kernelspec": {
   "display_name": "Python 3",
   "language": "python",
   "name": "python3"
  },
  "language_info": {
   "codemirror_mode": {
    "name": "ipython",
    "version": 3
   },
   "file_extension": ".py",
   "mimetype": "text/x-python",
   "name": "python",
   "nbconvert_exporter": "python",
   "pygments_lexer": "ipython3",
   "version": "3.6.7"
  }
 },
 "nbformat": 4,
 "nbformat_minor": 2
}
