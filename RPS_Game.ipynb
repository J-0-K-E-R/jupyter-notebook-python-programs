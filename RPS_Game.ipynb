{
 "cells": [
  {
   "cell_type": "code",
   "execution_count": null,
   "metadata": {},
   "outputs": [],
   "source": [
    "flag=1\n",
    "while(flag):\n",
    "    print(\"\"\"Rock/Paper/Scissor\n",
    "              1. Play\n",
    "              2. Exit\"\"\");\n",
    "    choice = int(input());\n",
    "    if (choice>0 & choice<3):\n",
    "        if (choice == 1):\n",
    "            while(flag):\n",
    "                print(\"\"\"Player 1 Choose your option :\n",
    "                        1. Rock\n",
    "                        2. Paper\n",
    "                        3. Scissor\"\"\");\n",
    "                p1 = int(input());\n",
    "                if (p1<1 or p1>3):\n",
    "                      print(\"\\n\\nPlease select a valid option(1-3)\\n\");\n",
    "                else:\n",
    "                    flag=0;\n",
    "            flag=1;\n",
    "            while(flag):\n",
    "                print(\"\"\"Player 2 Choose your option :\n",
    "                    1. Rock\n",
    "                    2. Paper\n",
    "                    3. Scissor\"\"\");\n",
    "                p2 = int(input());\n",
    "                if (p2<1 or p2>3):\n",
    "                      print(\"\\n\\nPlease select a valid option(1-3)\\n\");\n",
    "                else:\n",
    "                    temp:0;\n",
    "            flag=1;\n",
    "            print(\"Result :\");\n",
    "            if (p1==p2):\n",
    "                print(\"\\nIt's a draw!\\n\\n\");\n",
    "            elif(p1<p2):\n",
    "                if (p1==1 and p2==3):\n",
    "                    print(\"Player 1 won!\\n\\n\");\n",
    "                else:\n",
    "                    print(\"Player 2 won!\\n\\n\");\n",
    "            else:\n",
    "                if (p1==3 and p2==1):\n",
    "                    print(\"Player 2 won!\\n\\n\");\n",
    "                else:\n",
    "                    print(\"Player 1 won!\\n\\n\");\n",
    "        else:\n",
    "            print(\"Exiting...\");\n",
    "            flag=0;\n",
    "    else:\n",
    "        print(\"Please enter valid option(1 or 2)\\n\\n\");"
   ]
  },
  {
   "cell_type": "code",
   "execution_count": null,
   "metadata": {},
   "outputs": [],
   "source": []
  }
 ],
 "metadata": {
  "kernelspec": {
   "display_name": "Python 3",
   "language": "python",
   "name": "python3"
  },
  "language_info": {
   "codemirror_mode": {
    "name": "ipython",
    "version": 3
   },
   "file_extension": ".py",
   "mimetype": "text/x-python",
   "name": "python",
   "nbconvert_exporter": "python",
   "pygments_lexer": "ipython3",
   "version": "3.6.5"
  }
 },
 "nbformat": 4,
 "nbformat_minor": 2
}
